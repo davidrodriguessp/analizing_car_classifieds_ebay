{
 "cells": [
  {
   "cell_type": "markdown",
   "metadata": {},
   "source": [
    "![image](https://wallpaperaccess.com/full/1670957.jpg)"
   ]
  },
  {
   "cell_type": "markdown",
   "metadata": {},
   "source": [
    "# Learning How to Clean Data in Python - Analyzing Car Classifieds on EBay\n",
    "\n",
    "The objective of this project is to provide an example of how to clean data with Python.\n",
    "\n",
    "We utilized a used-cars dataset found in a classifieds section of the German eBay website. The original dataset was scraped fom eBay Kleinanzeigan and is available on [kaggle](https://www.kaggle.com/orgesleka/used-cars-database/data). For this analysis, we used a sample of the original dataset with 50,000 that was prepared by [Dataquest](https://www.dataquest.io/) with a less-cleaned version of the data.\n",
    "\n",
    "## Load and explore the dataset"
   ]
  },
  {
   "cell_type": "code",
   "execution_count": 1,
   "metadata": {},
   "outputs": [],
   "source": [
    "# read dataset \n",
    "import pandas as pd\n",
    "import numpy as np\n",
    "autos = pd.read_csv('autos.csv', encoding='latin-1')"
   ]
  },
  {
   "cell_type": "code",
   "execution_count": 2,
   "metadata": {
    "scrolled": true
   },
   "outputs": [
    {
     "name": "stdout",
     "output_type": "stream",
     "text": [
      "<class 'pandas.core.frame.DataFrame'>\n",
      "RangeIndex: 50000 entries, 0 to 49999\n",
      "Data columns (total 20 columns):\n",
      "dateCrawled            50000 non-null object\n",
      "name                   50000 non-null object\n",
      "seller                 50000 non-null object\n",
      "offerType              50000 non-null object\n",
      "price                  50000 non-null object\n",
      "abtest                 50000 non-null object\n",
      "vehicleType            44905 non-null object\n",
      "yearOfRegistration     50000 non-null int64\n",
      "gearbox                47320 non-null object\n",
      "powerPS                50000 non-null int64\n",
      "model                  47242 non-null object\n",
      "odometer               50000 non-null object\n",
      "monthOfRegistration    50000 non-null int64\n",
      "fuelType               45518 non-null object\n",
      "brand                  50000 non-null object\n",
      "notRepairedDamage      40171 non-null object\n",
      "dateCreated            50000 non-null object\n",
      "nrOfPictures           50000 non-null int64\n",
      "postalCode             50000 non-null int64\n",
      "lastSeen               50000 non-null object\n",
      "dtypes: int64(5), object(15)\n",
      "memory usage: 7.6+ MB\n"
     ]
    }
   ],
   "source": [
    "# explore dataset\n",
    "autos.info()"
   ]
  },
  {
   "cell_type": "markdown",
   "metadata": {},
   "source": [
    "The dataset includes 50,000 entries and 20 columns. Five of the columns have missing values, since the number of non-null rows they have is lower than the total number of entries. However, no column has more than 20% of missing values, what shows that all might have enough data for analysis.\n",
    "\n",
    "Most columns are of `object` type, these ones are probably of `str`type, while 5 are of `int` type.\n",
    "\n",
    "Let's have a look at the first five rows to have more insight on the data."
   ]
  },
  {
   "cell_type": "code",
   "execution_count": 3,
   "metadata": {
    "scrolled": true
   },
   "outputs": [
    {
     "data": {
      "text/html": [
       "<div>\n",
       "<style scoped>\n",
       "    .dataframe tbody tr th:only-of-type {\n",
       "        vertical-align: middle;\n",
       "    }\n",
       "\n",
       "    .dataframe tbody tr th {\n",
       "        vertical-align: top;\n",
       "    }\n",
       "\n",
       "    .dataframe thead th {\n",
       "        text-align: right;\n",
       "    }\n",
       "</style>\n",
       "<table border=\"1\" class=\"dataframe\">\n",
       "  <thead>\n",
       "    <tr style=\"text-align: right;\">\n",
       "      <th></th>\n",
       "      <th>dateCrawled</th>\n",
       "      <th>name</th>\n",
       "      <th>seller</th>\n",
       "      <th>offerType</th>\n",
       "      <th>price</th>\n",
       "      <th>abtest</th>\n",
       "      <th>vehicleType</th>\n",
       "      <th>yearOfRegistration</th>\n",
       "      <th>gearbox</th>\n",
       "      <th>powerPS</th>\n",
       "      <th>model</th>\n",
       "      <th>odometer</th>\n",
       "      <th>monthOfRegistration</th>\n",
       "      <th>fuelType</th>\n",
       "      <th>brand</th>\n",
       "      <th>notRepairedDamage</th>\n",
       "      <th>dateCreated</th>\n",
       "      <th>nrOfPictures</th>\n",
       "      <th>postalCode</th>\n",
       "      <th>lastSeen</th>\n",
       "    </tr>\n",
       "  </thead>\n",
       "  <tbody>\n",
       "    <tr>\n",
       "      <th>0</th>\n",
       "      <td>2016-03-26 17:47:46</td>\n",
       "      <td>Peugeot_807_160_NAVTECH_ON_BOARD</td>\n",
       "      <td>privat</td>\n",
       "      <td>Angebot</td>\n",
       "      <td>$5,000</td>\n",
       "      <td>control</td>\n",
       "      <td>bus</td>\n",
       "      <td>2004</td>\n",
       "      <td>manuell</td>\n",
       "      <td>158</td>\n",
       "      <td>andere</td>\n",
       "      <td>150,000km</td>\n",
       "      <td>3</td>\n",
       "      <td>lpg</td>\n",
       "      <td>peugeot</td>\n",
       "      <td>nein</td>\n",
       "      <td>2016-03-26 00:00:00</td>\n",
       "      <td>0</td>\n",
       "      <td>79588</td>\n",
       "      <td>2016-04-06 06:45:54</td>\n",
       "    </tr>\n",
       "    <tr>\n",
       "      <th>1</th>\n",
       "      <td>2016-04-04 13:38:56</td>\n",
       "      <td>BMW_740i_4_4_Liter_HAMANN_UMBAU_Mega_Optik</td>\n",
       "      <td>privat</td>\n",
       "      <td>Angebot</td>\n",
       "      <td>$8,500</td>\n",
       "      <td>control</td>\n",
       "      <td>limousine</td>\n",
       "      <td>1997</td>\n",
       "      <td>automatik</td>\n",
       "      <td>286</td>\n",
       "      <td>7er</td>\n",
       "      <td>150,000km</td>\n",
       "      <td>6</td>\n",
       "      <td>benzin</td>\n",
       "      <td>bmw</td>\n",
       "      <td>nein</td>\n",
       "      <td>2016-04-04 00:00:00</td>\n",
       "      <td>0</td>\n",
       "      <td>71034</td>\n",
       "      <td>2016-04-06 14:45:08</td>\n",
       "    </tr>\n",
       "    <tr>\n",
       "      <th>2</th>\n",
       "      <td>2016-03-26 18:57:24</td>\n",
       "      <td>Volkswagen_Golf_1.6_United</td>\n",
       "      <td>privat</td>\n",
       "      <td>Angebot</td>\n",
       "      <td>$8,990</td>\n",
       "      <td>test</td>\n",
       "      <td>limousine</td>\n",
       "      <td>2009</td>\n",
       "      <td>manuell</td>\n",
       "      <td>102</td>\n",
       "      <td>golf</td>\n",
       "      <td>70,000km</td>\n",
       "      <td>7</td>\n",
       "      <td>benzin</td>\n",
       "      <td>volkswagen</td>\n",
       "      <td>nein</td>\n",
       "      <td>2016-03-26 00:00:00</td>\n",
       "      <td>0</td>\n",
       "      <td>35394</td>\n",
       "      <td>2016-04-06 20:15:37</td>\n",
       "    </tr>\n",
       "    <tr>\n",
       "      <th>3</th>\n",
       "      <td>2016-03-12 16:58:10</td>\n",
       "      <td>Smart_smart_fortwo_coupe_softouch/F1/Klima/Pan...</td>\n",
       "      <td>privat</td>\n",
       "      <td>Angebot</td>\n",
       "      <td>$4,350</td>\n",
       "      <td>control</td>\n",
       "      <td>kleinwagen</td>\n",
       "      <td>2007</td>\n",
       "      <td>automatik</td>\n",
       "      <td>71</td>\n",
       "      <td>fortwo</td>\n",
       "      <td>70,000km</td>\n",
       "      <td>6</td>\n",
       "      <td>benzin</td>\n",
       "      <td>smart</td>\n",
       "      <td>nein</td>\n",
       "      <td>2016-03-12 00:00:00</td>\n",
       "      <td>0</td>\n",
       "      <td>33729</td>\n",
       "      <td>2016-03-15 03:16:28</td>\n",
       "    </tr>\n",
       "    <tr>\n",
       "      <th>4</th>\n",
       "      <td>2016-04-01 14:38:50</td>\n",
       "      <td>Ford_Focus_1_6_Benzin_TÜV_neu_ist_sehr_gepfleg...</td>\n",
       "      <td>privat</td>\n",
       "      <td>Angebot</td>\n",
       "      <td>$1,350</td>\n",
       "      <td>test</td>\n",
       "      <td>kombi</td>\n",
       "      <td>2003</td>\n",
       "      <td>manuell</td>\n",
       "      <td>0</td>\n",
       "      <td>focus</td>\n",
       "      <td>150,000km</td>\n",
       "      <td>7</td>\n",
       "      <td>benzin</td>\n",
       "      <td>ford</td>\n",
       "      <td>nein</td>\n",
       "      <td>2016-04-01 00:00:00</td>\n",
       "      <td>0</td>\n",
       "      <td>39218</td>\n",
       "      <td>2016-04-01 14:38:50</td>\n",
       "    </tr>\n",
       "  </tbody>\n",
       "</table>\n",
       "</div>"
      ],
      "text/plain": [
       "           dateCrawled                                               name  \\\n",
       "0  2016-03-26 17:47:46                   Peugeot_807_160_NAVTECH_ON_BOARD   \n",
       "1  2016-04-04 13:38:56         BMW_740i_4_4_Liter_HAMANN_UMBAU_Mega_Optik   \n",
       "2  2016-03-26 18:57:24                         Volkswagen_Golf_1.6_United   \n",
       "3  2016-03-12 16:58:10  Smart_smart_fortwo_coupe_softouch/F1/Klima/Pan...   \n",
       "4  2016-04-01 14:38:50  Ford_Focus_1_6_Benzin_TÜV_neu_ist_sehr_gepfleg...   \n",
       "\n",
       "   seller offerType   price   abtest vehicleType  yearOfRegistration  \\\n",
       "0  privat   Angebot  $5,000  control         bus                2004   \n",
       "1  privat   Angebot  $8,500  control   limousine                1997   \n",
       "2  privat   Angebot  $8,990     test   limousine                2009   \n",
       "3  privat   Angebot  $4,350  control  kleinwagen                2007   \n",
       "4  privat   Angebot  $1,350     test       kombi                2003   \n",
       "\n",
       "     gearbox  powerPS   model   odometer  monthOfRegistration fuelType  \\\n",
       "0    manuell      158  andere  150,000km                    3      lpg   \n",
       "1  automatik      286     7er  150,000km                    6   benzin   \n",
       "2    manuell      102    golf   70,000km                    7   benzin   \n",
       "3  automatik       71  fortwo   70,000km                    6   benzin   \n",
       "4    manuell        0   focus  150,000km                    7   benzin   \n",
       "\n",
       "        brand notRepairedDamage          dateCreated  nrOfPictures  \\\n",
       "0     peugeot              nein  2016-03-26 00:00:00             0   \n",
       "1         bmw              nein  2016-04-04 00:00:00             0   \n",
       "2  volkswagen              nein  2016-03-26 00:00:00             0   \n",
       "3       smart              nein  2016-03-12 00:00:00             0   \n",
       "4        ford              nein  2016-04-01 00:00:00             0   \n",
       "\n",
       "   postalCode             lastSeen  \n",
       "0       79588  2016-04-06 06:45:54  \n",
       "1       71034  2016-04-06 14:45:08  \n",
       "2       35394  2016-04-06 20:15:37  \n",
       "3       33729  2016-03-15 03:16:28  \n",
       "4       39218  2016-04-01 14:38:50  "
      ]
     },
     "execution_count": 3,
     "metadata": {},
     "output_type": "execute_result"
    }
   ],
   "source": [
    "# show first five rows of the dataset\n",
    "autos.head()"
   ]
  },
  {
   "cell_type": "markdown",
   "metadata": {},
   "source": [
    "We can see that the first column `dateCrowled` includes `datetime` data. The `name` column includes both text and numeric data. The `price` column includes a dollar sign, what prevent us from making calculations. Still, column names are of `camelcase` instead of `snakecase`, which would be the usual format. \n",
    "\n",
    "## Renaming Column Labels"
   ]
  },
  {
   "cell_type": "code",
   "execution_count": 4,
   "metadata": {},
   "outputs": [
    {
     "data": {
      "text/plain": [
       "Index(['dateCrawled', 'name', 'seller', 'offerType', 'price', 'abtest',\n",
       "       'vehicleType', 'yearOfRegistration', 'gearbox', 'powerPS', 'model',\n",
       "       'odometer', 'monthOfRegistration', 'fuelType', 'brand',\n",
       "       'notRepairedDamage', 'dateCreated', 'nrOfPictures', 'postalCode',\n",
       "       'lastSeen'],\n",
       "      dtype='object')"
      ]
     },
     "execution_count": 4,
     "metadata": {},
     "output_type": "execute_result"
    }
   ],
   "source": [
    "# print the column names\n",
    "autos.columns"
   ]
  },
  {
   "cell_type": "code",
   "execution_count": 5,
   "metadata": {},
   "outputs": [],
   "source": [
    "# adjust column names\n",
    "new_columns = ['date_crawled', 'name', 'seller', 'offer_type', 'price', 'ab_test',\n",
    "       'vehicle_type', 'registration_year', 'gearbox', 'power_ps', 'model',\n",
    "       'odometer', 'registration_month', 'fuel_type', 'brand',\n",
    "       'unrepaired_damage', 'ad_created', 'num_photos', 'postal_code',\n",
    "       'last_seen']\n",
    "\n",
    "# replace columns by new columns\n",
    "autos.columns = new_columns"
   ]
  },
  {
   "cell_type": "code",
   "execution_count": 6,
   "metadata": {},
   "outputs": [
    {
     "data": {
      "text/plain": [
       "Index(['date_crawled', 'name', 'seller', 'offer_type', 'price', 'ab_test',\n",
       "       'vehicle_type', 'registration_year', 'gearbox', 'power_ps', 'model',\n",
       "       'odometer', 'registration_month', 'fuel_type', 'brand',\n",
       "       'unrepaired_damage', 'ad_created', 'num_photos', 'postal_code',\n",
       "       'last_seen'],\n",
       "      dtype='object')"
      ]
     },
     "execution_count": 6,
     "metadata": {},
     "output_type": "execute_result"
    }
   ],
   "source": [
    "# print columns with new names\n",
    "autos.columns"
   ]
  },
  {
   "cell_type": "code",
   "execution_count": 7,
   "metadata": {},
   "outputs": [
    {
     "data": {
      "text/html": [
       "<div>\n",
       "<style scoped>\n",
       "    .dataframe tbody tr th:only-of-type {\n",
       "        vertical-align: middle;\n",
       "    }\n",
       "\n",
       "    .dataframe tbody tr th {\n",
       "        vertical-align: top;\n",
       "    }\n",
       "\n",
       "    .dataframe thead th {\n",
       "        text-align: right;\n",
       "    }\n",
       "</style>\n",
       "<table border=\"1\" class=\"dataframe\">\n",
       "  <thead>\n",
       "    <tr style=\"text-align: right;\">\n",
       "      <th></th>\n",
       "      <th>date_crawled</th>\n",
       "      <th>name</th>\n",
       "      <th>seller</th>\n",
       "      <th>offer_type</th>\n",
       "      <th>price</th>\n",
       "      <th>ab_test</th>\n",
       "      <th>vehicle_type</th>\n",
       "      <th>registration_year</th>\n",
       "      <th>gearbox</th>\n",
       "      <th>power_ps</th>\n",
       "      <th>model</th>\n",
       "      <th>odometer</th>\n",
       "      <th>registration_month</th>\n",
       "      <th>fuel_type</th>\n",
       "      <th>brand</th>\n",
       "      <th>unrepaired_damage</th>\n",
       "      <th>ad_created</th>\n",
       "      <th>num_photos</th>\n",
       "      <th>postal_code</th>\n",
       "      <th>last_seen</th>\n",
       "    </tr>\n",
       "  </thead>\n",
       "  <tbody>\n",
       "    <tr>\n",
       "      <th>0</th>\n",
       "      <td>2016-03-26 17:47:46</td>\n",
       "      <td>Peugeot_807_160_NAVTECH_ON_BOARD</td>\n",
       "      <td>privat</td>\n",
       "      <td>Angebot</td>\n",
       "      <td>$5,000</td>\n",
       "      <td>control</td>\n",
       "      <td>bus</td>\n",
       "      <td>2004</td>\n",
       "      <td>manuell</td>\n",
       "      <td>158</td>\n",
       "      <td>andere</td>\n",
       "      <td>150,000km</td>\n",
       "      <td>3</td>\n",
       "      <td>lpg</td>\n",
       "      <td>peugeot</td>\n",
       "      <td>nein</td>\n",
       "      <td>2016-03-26 00:00:00</td>\n",
       "      <td>0</td>\n",
       "      <td>79588</td>\n",
       "      <td>2016-04-06 06:45:54</td>\n",
       "    </tr>\n",
       "    <tr>\n",
       "      <th>1</th>\n",
       "      <td>2016-04-04 13:38:56</td>\n",
       "      <td>BMW_740i_4_4_Liter_HAMANN_UMBAU_Mega_Optik</td>\n",
       "      <td>privat</td>\n",
       "      <td>Angebot</td>\n",
       "      <td>$8,500</td>\n",
       "      <td>control</td>\n",
       "      <td>limousine</td>\n",
       "      <td>1997</td>\n",
       "      <td>automatik</td>\n",
       "      <td>286</td>\n",
       "      <td>7er</td>\n",
       "      <td>150,000km</td>\n",
       "      <td>6</td>\n",
       "      <td>benzin</td>\n",
       "      <td>bmw</td>\n",
       "      <td>nein</td>\n",
       "      <td>2016-04-04 00:00:00</td>\n",
       "      <td>0</td>\n",
       "      <td>71034</td>\n",
       "      <td>2016-04-06 14:45:08</td>\n",
       "    </tr>\n",
       "    <tr>\n",
       "      <th>2</th>\n",
       "      <td>2016-03-26 18:57:24</td>\n",
       "      <td>Volkswagen_Golf_1.6_United</td>\n",
       "      <td>privat</td>\n",
       "      <td>Angebot</td>\n",
       "      <td>$8,990</td>\n",
       "      <td>test</td>\n",
       "      <td>limousine</td>\n",
       "      <td>2009</td>\n",
       "      <td>manuell</td>\n",
       "      <td>102</td>\n",
       "      <td>golf</td>\n",
       "      <td>70,000km</td>\n",
       "      <td>7</td>\n",
       "      <td>benzin</td>\n",
       "      <td>volkswagen</td>\n",
       "      <td>nein</td>\n",
       "      <td>2016-03-26 00:00:00</td>\n",
       "      <td>0</td>\n",
       "      <td>35394</td>\n",
       "      <td>2016-04-06 20:15:37</td>\n",
       "    </tr>\n",
       "    <tr>\n",
       "      <th>3</th>\n",
       "      <td>2016-03-12 16:58:10</td>\n",
       "      <td>Smart_smart_fortwo_coupe_softouch/F1/Klima/Pan...</td>\n",
       "      <td>privat</td>\n",
       "      <td>Angebot</td>\n",
       "      <td>$4,350</td>\n",
       "      <td>control</td>\n",
       "      <td>kleinwagen</td>\n",
       "      <td>2007</td>\n",
       "      <td>automatik</td>\n",
       "      <td>71</td>\n",
       "      <td>fortwo</td>\n",
       "      <td>70,000km</td>\n",
       "      <td>6</td>\n",
       "      <td>benzin</td>\n",
       "      <td>smart</td>\n",
       "      <td>nein</td>\n",
       "      <td>2016-03-12 00:00:00</td>\n",
       "      <td>0</td>\n",
       "      <td>33729</td>\n",
       "      <td>2016-03-15 03:16:28</td>\n",
       "    </tr>\n",
       "    <tr>\n",
       "      <th>4</th>\n",
       "      <td>2016-04-01 14:38:50</td>\n",
       "      <td>Ford_Focus_1_6_Benzin_TÜV_neu_ist_sehr_gepfleg...</td>\n",
       "      <td>privat</td>\n",
       "      <td>Angebot</td>\n",
       "      <td>$1,350</td>\n",
       "      <td>test</td>\n",
       "      <td>kombi</td>\n",
       "      <td>2003</td>\n",
       "      <td>manuell</td>\n",
       "      <td>0</td>\n",
       "      <td>focus</td>\n",
       "      <td>150,000km</td>\n",
       "      <td>7</td>\n",
       "      <td>benzin</td>\n",
       "      <td>ford</td>\n",
       "      <td>nein</td>\n",
       "      <td>2016-04-01 00:00:00</td>\n",
       "      <td>0</td>\n",
       "      <td>39218</td>\n",
       "      <td>2016-04-01 14:38:50</td>\n",
       "    </tr>\n",
       "  </tbody>\n",
       "</table>\n",
       "</div>"
      ],
      "text/plain": [
       "          date_crawled                                               name  \\\n",
       "0  2016-03-26 17:47:46                   Peugeot_807_160_NAVTECH_ON_BOARD   \n",
       "1  2016-04-04 13:38:56         BMW_740i_4_4_Liter_HAMANN_UMBAU_Mega_Optik   \n",
       "2  2016-03-26 18:57:24                         Volkswagen_Golf_1.6_United   \n",
       "3  2016-03-12 16:58:10  Smart_smart_fortwo_coupe_softouch/F1/Klima/Pan...   \n",
       "4  2016-04-01 14:38:50  Ford_Focus_1_6_Benzin_TÜV_neu_ist_sehr_gepfleg...   \n",
       "\n",
       "   seller offer_type   price  ab_test vehicle_type  registration_year  \\\n",
       "0  privat    Angebot  $5,000  control          bus               2004   \n",
       "1  privat    Angebot  $8,500  control    limousine               1997   \n",
       "2  privat    Angebot  $8,990     test    limousine               2009   \n",
       "3  privat    Angebot  $4,350  control   kleinwagen               2007   \n",
       "4  privat    Angebot  $1,350     test        kombi               2003   \n",
       "\n",
       "     gearbox  power_ps   model   odometer  registration_month fuel_type  \\\n",
       "0    manuell       158  andere  150,000km                   3       lpg   \n",
       "1  automatik       286     7er  150,000km                   6    benzin   \n",
       "2    manuell       102    golf   70,000km                   7    benzin   \n",
       "3  automatik        71  fortwo   70,000km                   6    benzin   \n",
       "4    manuell         0   focus  150,000km                   7    benzin   \n",
       "\n",
       "        brand unrepaired_damage           ad_created  num_photos  postal_code  \\\n",
       "0     peugeot              nein  2016-03-26 00:00:00           0        79588   \n",
       "1         bmw              nein  2016-04-04 00:00:00           0        71034   \n",
       "2  volkswagen              nein  2016-03-26 00:00:00           0        35394   \n",
       "3       smart              nein  2016-03-12 00:00:00           0        33729   \n",
       "4        ford              nein  2016-04-01 00:00:00           0        39218   \n",
       "\n",
       "             last_seen  \n",
       "0  2016-04-06 06:45:54  \n",
       "1  2016-04-06 14:45:08  \n",
       "2  2016-04-06 20:15:37  \n",
       "3  2016-03-15 03:16:28  \n",
       "4  2016-04-01 14:38:50  "
      ]
     },
     "execution_count": 7,
     "metadata": {},
     "output_type": "execute_result"
    }
   ],
   "source": [
    "# display first five columns with the revised labels\n",
    "autos.head()"
   ]
  },
  {
   "cell_type": "markdown",
   "metadata": {},
   "source": [
    "Now, column names are more informative, easier to understand and analyze. Next, lets explore further the data to identify the need for cleaning."
   ]
  },
  {
   "cell_type": "markdown",
   "metadata": {},
   "source": [
    "## Display Descriptive Statistics"
   ]
  },
  {
   "cell_type": "code",
   "execution_count": 8,
   "metadata": {},
   "outputs": [
    {
     "data": {
      "text/html": [
       "<div>\n",
       "<style scoped>\n",
       "    .dataframe tbody tr th:only-of-type {\n",
       "        vertical-align: middle;\n",
       "    }\n",
       "\n",
       "    .dataframe tbody tr th {\n",
       "        vertical-align: top;\n",
       "    }\n",
       "\n",
       "    .dataframe thead th {\n",
       "        text-align: right;\n",
       "    }\n",
       "</style>\n",
       "<table border=\"1\" class=\"dataframe\">\n",
       "  <thead>\n",
       "    <tr style=\"text-align: right;\">\n",
       "      <th></th>\n",
       "      <th>date_crawled</th>\n",
       "      <th>name</th>\n",
       "      <th>seller</th>\n",
       "      <th>offer_type</th>\n",
       "      <th>price</th>\n",
       "      <th>ab_test</th>\n",
       "      <th>vehicle_type</th>\n",
       "      <th>registration_year</th>\n",
       "      <th>gearbox</th>\n",
       "      <th>power_ps</th>\n",
       "      <th>model</th>\n",
       "      <th>odometer</th>\n",
       "      <th>registration_month</th>\n",
       "      <th>fuel_type</th>\n",
       "      <th>brand</th>\n",
       "      <th>unrepaired_damage</th>\n",
       "      <th>ad_created</th>\n",
       "      <th>num_photos</th>\n",
       "      <th>postal_code</th>\n",
       "      <th>last_seen</th>\n",
       "    </tr>\n",
       "  </thead>\n",
       "  <tbody>\n",
       "    <tr>\n",
       "      <th>count</th>\n",
       "      <td>50000</td>\n",
       "      <td>50000</td>\n",
       "      <td>50000</td>\n",
       "      <td>50000</td>\n",
       "      <td>50000</td>\n",
       "      <td>50000</td>\n",
       "      <td>44905</td>\n",
       "      <td>50000.000000</td>\n",
       "      <td>47320</td>\n",
       "      <td>50000.000000</td>\n",
       "      <td>47242</td>\n",
       "      <td>50000</td>\n",
       "      <td>50000.000000</td>\n",
       "      <td>45518</td>\n",
       "      <td>50000</td>\n",
       "      <td>40171</td>\n",
       "      <td>50000</td>\n",
       "      <td>50000.0</td>\n",
       "      <td>50000.000000</td>\n",
       "      <td>50000</td>\n",
       "    </tr>\n",
       "    <tr>\n",
       "      <th>unique</th>\n",
       "      <td>48213</td>\n",
       "      <td>38754</td>\n",
       "      <td>2</td>\n",
       "      <td>2</td>\n",
       "      <td>2357</td>\n",
       "      <td>2</td>\n",
       "      <td>8</td>\n",
       "      <td>NaN</td>\n",
       "      <td>2</td>\n",
       "      <td>NaN</td>\n",
       "      <td>245</td>\n",
       "      <td>13</td>\n",
       "      <td>NaN</td>\n",
       "      <td>7</td>\n",
       "      <td>40</td>\n",
       "      <td>2</td>\n",
       "      <td>76</td>\n",
       "      <td>NaN</td>\n",
       "      <td>NaN</td>\n",
       "      <td>39481</td>\n",
       "    </tr>\n",
       "    <tr>\n",
       "      <th>top</th>\n",
       "      <td>2016-04-04 16:40:33</td>\n",
       "      <td>Ford_Fiesta</td>\n",
       "      <td>privat</td>\n",
       "      <td>Angebot</td>\n",
       "      <td>$0</td>\n",
       "      <td>test</td>\n",
       "      <td>limousine</td>\n",
       "      <td>NaN</td>\n",
       "      <td>manuell</td>\n",
       "      <td>NaN</td>\n",
       "      <td>golf</td>\n",
       "      <td>150,000km</td>\n",
       "      <td>NaN</td>\n",
       "      <td>benzin</td>\n",
       "      <td>volkswagen</td>\n",
       "      <td>nein</td>\n",
       "      <td>2016-04-03 00:00:00</td>\n",
       "      <td>NaN</td>\n",
       "      <td>NaN</td>\n",
       "      <td>2016-04-07 06:17:27</td>\n",
       "    </tr>\n",
       "    <tr>\n",
       "      <th>freq</th>\n",
       "      <td>3</td>\n",
       "      <td>78</td>\n",
       "      <td>49999</td>\n",
       "      <td>49999</td>\n",
       "      <td>1421</td>\n",
       "      <td>25756</td>\n",
       "      <td>12859</td>\n",
       "      <td>NaN</td>\n",
       "      <td>36993</td>\n",
       "      <td>NaN</td>\n",
       "      <td>4024</td>\n",
       "      <td>32424</td>\n",
       "      <td>NaN</td>\n",
       "      <td>30107</td>\n",
       "      <td>10687</td>\n",
       "      <td>35232</td>\n",
       "      <td>1946</td>\n",
       "      <td>NaN</td>\n",
       "      <td>NaN</td>\n",
       "      <td>8</td>\n",
       "    </tr>\n",
       "    <tr>\n",
       "      <th>mean</th>\n",
       "      <td>NaN</td>\n",
       "      <td>NaN</td>\n",
       "      <td>NaN</td>\n",
       "      <td>NaN</td>\n",
       "      <td>NaN</td>\n",
       "      <td>NaN</td>\n",
       "      <td>NaN</td>\n",
       "      <td>2005.073280</td>\n",
       "      <td>NaN</td>\n",
       "      <td>116.355920</td>\n",
       "      <td>NaN</td>\n",
       "      <td>NaN</td>\n",
       "      <td>5.723360</td>\n",
       "      <td>NaN</td>\n",
       "      <td>NaN</td>\n",
       "      <td>NaN</td>\n",
       "      <td>NaN</td>\n",
       "      <td>0.0</td>\n",
       "      <td>50813.627300</td>\n",
       "      <td>NaN</td>\n",
       "    </tr>\n",
       "    <tr>\n",
       "      <th>std</th>\n",
       "      <td>NaN</td>\n",
       "      <td>NaN</td>\n",
       "      <td>NaN</td>\n",
       "      <td>NaN</td>\n",
       "      <td>NaN</td>\n",
       "      <td>NaN</td>\n",
       "      <td>NaN</td>\n",
       "      <td>105.712813</td>\n",
       "      <td>NaN</td>\n",
       "      <td>209.216627</td>\n",
       "      <td>NaN</td>\n",
       "      <td>NaN</td>\n",
       "      <td>3.711984</td>\n",
       "      <td>NaN</td>\n",
       "      <td>NaN</td>\n",
       "      <td>NaN</td>\n",
       "      <td>NaN</td>\n",
       "      <td>0.0</td>\n",
       "      <td>25779.747957</td>\n",
       "      <td>NaN</td>\n",
       "    </tr>\n",
       "    <tr>\n",
       "      <th>min</th>\n",
       "      <td>NaN</td>\n",
       "      <td>NaN</td>\n",
       "      <td>NaN</td>\n",
       "      <td>NaN</td>\n",
       "      <td>NaN</td>\n",
       "      <td>NaN</td>\n",
       "      <td>NaN</td>\n",
       "      <td>1000.000000</td>\n",
       "      <td>NaN</td>\n",
       "      <td>0.000000</td>\n",
       "      <td>NaN</td>\n",
       "      <td>NaN</td>\n",
       "      <td>0.000000</td>\n",
       "      <td>NaN</td>\n",
       "      <td>NaN</td>\n",
       "      <td>NaN</td>\n",
       "      <td>NaN</td>\n",
       "      <td>0.0</td>\n",
       "      <td>1067.000000</td>\n",
       "      <td>NaN</td>\n",
       "    </tr>\n",
       "    <tr>\n",
       "      <th>25%</th>\n",
       "      <td>NaN</td>\n",
       "      <td>NaN</td>\n",
       "      <td>NaN</td>\n",
       "      <td>NaN</td>\n",
       "      <td>NaN</td>\n",
       "      <td>NaN</td>\n",
       "      <td>NaN</td>\n",
       "      <td>1999.000000</td>\n",
       "      <td>NaN</td>\n",
       "      <td>70.000000</td>\n",
       "      <td>NaN</td>\n",
       "      <td>NaN</td>\n",
       "      <td>3.000000</td>\n",
       "      <td>NaN</td>\n",
       "      <td>NaN</td>\n",
       "      <td>NaN</td>\n",
       "      <td>NaN</td>\n",
       "      <td>0.0</td>\n",
       "      <td>30451.000000</td>\n",
       "      <td>NaN</td>\n",
       "    </tr>\n",
       "    <tr>\n",
       "      <th>50%</th>\n",
       "      <td>NaN</td>\n",
       "      <td>NaN</td>\n",
       "      <td>NaN</td>\n",
       "      <td>NaN</td>\n",
       "      <td>NaN</td>\n",
       "      <td>NaN</td>\n",
       "      <td>NaN</td>\n",
       "      <td>2003.000000</td>\n",
       "      <td>NaN</td>\n",
       "      <td>105.000000</td>\n",
       "      <td>NaN</td>\n",
       "      <td>NaN</td>\n",
       "      <td>6.000000</td>\n",
       "      <td>NaN</td>\n",
       "      <td>NaN</td>\n",
       "      <td>NaN</td>\n",
       "      <td>NaN</td>\n",
       "      <td>0.0</td>\n",
       "      <td>49577.000000</td>\n",
       "      <td>NaN</td>\n",
       "    </tr>\n",
       "    <tr>\n",
       "      <th>75%</th>\n",
       "      <td>NaN</td>\n",
       "      <td>NaN</td>\n",
       "      <td>NaN</td>\n",
       "      <td>NaN</td>\n",
       "      <td>NaN</td>\n",
       "      <td>NaN</td>\n",
       "      <td>NaN</td>\n",
       "      <td>2008.000000</td>\n",
       "      <td>NaN</td>\n",
       "      <td>150.000000</td>\n",
       "      <td>NaN</td>\n",
       "      <td>NaN</td>\n",
       "      <td>9.000000</td>\n",
       "      <td>NaN</td>\n",
       "      <td>NaN</td>\n",
       "      <td>NaN</td>\n",
       "      <td>NaN</td>\n",
       "      <td>0.0</td>\n",
       "      <td>71540.000000</td>\n",
       "      <td>NaN</td>\n",
       "    </tr>\n",
       "    <tr>\n",
       "      <th>max</th>\n",
       "      <td>NaN</td>\n",
       "      <td>NaN</td>\n",
       "      <td>NaN</td>\n",
       "      <td>NaN</td>\n",
       "      <td>NaN</td>\n",
       "      <td>NaN</td>\n",
       "      <td>NaN</td>\n",
       "      <td>9999.000000</td>\n",
       "      <td>NaN</td>\n",
       "      <td>17700.000000</td>\n",
       "      <td>NaN</td>\n",
       "      <td>NaN</td>\n",
       "      <td>12.000000</td>\n",
       "      <td>NaN</td>\n",
       "      <td>NaN</td>\n",
       "      <td>NaN</td>\n",
       "      <td>NaN</td>\n",
       "      <td>0.0</td>\n",
       "      <td>99998.000000</td>\n",
       "      <td>NaN</td>\n",
       "    </tr>\n",
       "  </tbody>\n",
       "</table>\n",
       "</div>"
      ],
      "text/plain": [
       "               date_crawled         name  seller offer_type  price ab_test  \\\n",
       "count                 50000        50000   50000      50000  50000   50000   \n",
       "unique                48213        38754       2          2   2357       2   \n",
       "top     2016-04-04 16:40:33  Ford_Fiesta  privat    Angebot     $0    test   \n",
       "freq                      3           78   49999      49999   1421   25756   \n",
       "mean                    NaN          NaN     NaN        NaN    NaN     NaN   \n",
       "std                     NaN          NaN     NaN        NaN    NaN     NaN   \n",
       "min                     NaN          NaN     NaN        NaN    NaN     NaN   \n",
       "25%                     NaN          NaN     NaN        NaN    NaN     NaN   \n",
       "50%                     NaN          NaN     NaN        NaN    NaN     NaN   \n",
       "75%                     NaN          NaN     NaN        NaN    NaN     NaN   \n",
       "max                     NaN          NaN     NaN        NaN    NaN     NaN   \n",
       "\n",
       "       vehicle_type  registration_year  gearbox      power_ps  model  \\\n",
       "count         44905       50000.000000    47320  50000.000000  47242   \n",
       "unique            8                NaN        2           NaN    245   \n",
       "top       limousine                NaN  manuell           NaN   golf   \n",
       "freq          12859                NaN    36993           NaN   4024   \n",
       "mean            NaN        2005.073280      NaN    116.355920    NaN   \n",
       "std             NaN         105.712813      NaN    209.216627    NaN   \n",
       "min             NaN        1000.000000      NaN      0.000000    NaN   \n",
       "25%             NaN        1999.000000      NaN     70.000000    NaN   \n",
       "50%             NaN        2003.000000      NaN    105.000000    NaN   \n",
       "75%             NaN        2008.000000      NaN    150.000000    NaN   \n",
       "max             NaN        9999.000000      NaN  17700.000000    NaN   \n",
       "\n",
       "         odometer  registration_month fuel_type       brand unrepaired_damage  \\\n",
       "count       50000        50000.000000     45518       50000             40171   \n",
       "unique         13                 NaN         7          40                 2   \n",
       "top     150,000km                 NaN    benzin  volkswagen              nein   \n",
       "freq        32424                 NaN     30107       10687             35232   \n",
       "mean          NaN            5.723360       NaN         NaN               NaN   \n",
       "std           NaN            3.711984       NaN         NaN               NaN   \n",
       "min           NaN            0.000000       NaN         NaN               NaN   \n",
       "25%           NaN            3.000000       NaN         NaN               NaN   \n",
       "50%           NaN            6.000000       NaN         NaN               NaN   \n",
       "75%           NaN            9.000000       NaN         NaN               NaN   \n",
       "max           NaN           12.000000       NaN         NaN               NaN   \n",
       "\n",
       "                 ad_created  num_photos   postal_code            last_seen  \n",
       "count                 50000     50000.0  50000.000000                50000  \n",
       "unique                   76         NaN           NaN                39481  \n",
       "top     2016-04-03 00:00:00         NaN           NaN  2016-04-07 06:17:27  \n",
       "freq                   1946         NaN           NaN                    8  \n",
       "mean                    NaN         0.0  50813.627300                  NaN  \n",
       "std                     NaN         0.0  25779.747957                  NaN  \n",
       "min                     NaN         0.0   1067.000000                  NaN  \n",
       "25%                     NaN         0.0  30451.000000                  NaN  \n",
       "50%                     NaN         0.0  49577.000000                  NaN  \n",
       "75%                     NaN         0.0  71540.000000                  NaN  \n",
       "max                     NaN         0.0  99998.000000                  NaN  "
      ]
     },
     "execution_count": 8,
     "metadata": {},
     "output_type": "execute_result"
    }
   ],
   "source": [
    "# print descriptive statistics for all columns\n",
    "autos.describe(include='all')"
   ]
  },
  {
   "cell_type": "markdown",
   "metadata": {},
   "source": [
    "Analyzing the results above we see that:\n",
    "- `seller`, `offer_type` and `num_photos` seem to have only one value for all rows. These columns should be dropped.\n",
    "- Columns to be further investigated: `name`, `registration_year`, `registration_month` and `ad_created`.\n",
    "- Numeric data to be cleaned: `price` and `odometer`.\n",
    "\n",
    "## Drop Irrelevant Columns\n",
    "We will drop the `seller`, `offer_type` and `num_photos` columns."
   ]
  },
  {
   "cell_type": "code",
   "execution_count": 9,
   "metadata": {
    "scrolled": true
   },
   "outputs": [
    {
     "name": "stdout",
     "output_type": "stream",
     "text": [
      "(50000, 17)\n",
      "Index(['date_crawled', 'name', 'price', 'ab_test', 'vehicle_type',\n",
      "       'registration_year', 'gearbox', 'power_ps', 'model', 'odometer',\n",
      "       'registration_month', 'fuel_type', 'brand', 'unrepaired_damage',\n",
      "       'ad_created', 'postal_code', 'last_seen'],\n",
      "      dtype='object')\n"
     ]
    }
   ],
   "source": [
    "# drop columns seller, offer_type and num_photos\n",
    "autos.drop(['seller', 'offer_type', 'num_photos'], axis='columns', inplace=True)\n",
    "print(autos.shape)\n",
    "print(autos.columns)"
   ]
  },
  {
   "cell_type": "markdown",
   "metadata": {},
   "source": [
    "As we can see above, the three columns are not anymore part of the dataset. We can also observe that the total number of columns is 17 instead of 20."
   ]
  },
  {
   "cell_type": "markdown",
   "metadata": {},
   "source": [
    "## Analyze Suspicious Columns"
   ]
  },
  {
   "cell_type": "code",
   "execution_count": 10,
   "metadata": {},
   "outputs": [
    {
     "data": {
      "text/plain": [
       "Ford_Fiesta            78\n",
       "Volkswagen_Golf_1.4    75\n",
       "BMW_316i               75\n",
       "BMW_318i               72\n",
       "Volkswagen_Polo        72\n",
       "BMW_320i               71\n",
       "Opel_Corsa             71\n",
       "Renault_Twingo         70\n",
       "Volkswagen_Golf        57\n",
       "Opel_Corsa_1.2_16V     56\n",
       "BMW_116i               53\n",
       "Peugeot_206            52\n",
       "Opel_Corsa_B           52\n",
       "Ford_Focus             50\n",
       "Volkswagen_Polo_1.2    48\n",
       "Volkswagen_Golf_1.6    47\n",
       "Name: name, dtype: int64"
      ]
     },
     "execution_count": 10,
     "metadata": {},
     "output_type": "execute_result"
    }
   ],
   "source": [
    "# investigate the name column\n",
    "autos['name'].value_counts(dropna=False).head(16)"
   ]
  },
  {
   "cell_type": "markdown",
   "metadata": {},
   "source": [
    "We see that the `name`column is very granular, differentiating specific versions of the same models (e.g., Volkswagen_Golf_1.4 and Volkswagen_Golf_1.6). Let's have a look at the `registration_month` column."
   ]
  },
  {
   "cell_type": "code",
   "execution_count": 11,
   "metadata": {},
   "outputs": [
    {
     "data": {
      "text/plain": [
       "0     5075\n",
       "3     5071\n",
       "6     4368\n",
       "5     4107\n",
       "4     4102\n",
       "7     3949\n",
       "10    3651\n",
       "12    3447\n",
       "9     3389\n",
       "11    3360\n",
       "1     3282\n",
       "8     3191\n",
       "2     3008\n",
       "Name: registration_month, dtype: int64"
      ]
     },
     "execution_count": 11,
     "metadata": {},
     "output_type": "execute_result"
    }
   ],
   "source": [
    "# investigate the registration_month column\n",
    "autos['registration_month'].value_counts(dropna=False)"
   ]
  },
  {
   "cell_type": "markdown",
   "metadata": {},
   "source": [
    "We see that there are 5,075 entries with values `0` that cannot be months. These will need to be considered missing."
   ]
  },
  {
   "cell_type": "markdown",
   "metadata": {},
   "source": [
    "## Dealing with Missing Values\n",
    "\n",
    "Part of the values in the `registration_month` column are missing. Let's classify them accordingly."
   ]
  },
  {
   "cell_type": "code",
   "execution_count": 12,
   "metadata": {},
   "outputs": [],
   "source": [
    "# replacing '0' values in the registration_month column as missing\n",
    "autos.loc[autos['registration_month']==0, 'registration_month'] = np.nan"
   ]
  },
  {
   "cell_type": "code",
   "execution_count": 13,
   "metadata": {},
   "outputs": [
    {
     "data": {
      "text/plain": [
       "NaN     5075\n",
       "3.0     5071\n",
       "6.0     4368\n",
       "5.0     4107\n",
       "4.0     4102\n",
       "7.0     3949\n",
       "10.0    3651\n",
       "12.0    3447\n",
       "9.0     3389\n",
       "11.0    3360\n",
       "1.0     3282\n",
       "8.0     3191\n",
       "2.0     3008\n",
       "Name: registration_month, dtype: int64"
      ]
     },
     "execution_count": 13,
     "metadata": {},
     "output_type": "execute_result"
    }
   ],
   "source": [
    "autos.registration_month.value_counts(dropna=False)"
   ]
  },
  {
   "cell_type": "markdown",
   "metadata": {},
   "source": [
    "We see above that the values are now displayed as missing. We continue the analysis investigating the `ad_created` column."
   ]
  },
  {
   "cell_type": "code",
   "execution_count": 14,
   "metadata": {},
   "outputs": [
    {
     "data": {
      "text/plain": [
       "2016-04-03 00:00:00    1946\n",
       "2016-03-20 00:00:00    1893\n",
       "2016-03-21 00:00:00    1886\n",
       "2016-04-04 00:00:00    1844\n",
       "2016-03-12 00:00:00    1831\n",
       "Name: ad_created, dtype: int64"
      ]
     },
     "execution_count": 14,
     "metadata": {},
     "output_type": "execute_result"
    }
   ],
   "source": [
    "# investigate the ad_created column\n",
    "autos['ad_created'].value_counts(dropna=False).head()"
   ]
  },
  {
   "cell_type": "markdown",
   "metadata": {},
   "source": [
    "This columns looks just fine. \n",
    "\n",
    "## Cleaning the `price` and `odometer` columns\n",
    "They include non-numeric characters as dollar signs and commas. Let's remove these characters and convert these columns to numeric."
   ]
  },
  {
   "cell_type": "code",
   "execution_count": 15,
   "metadata": {},
   "outputs": [
    {
     "name": "stdout",
     "output_type": "stream",
     "text": [
      "float64\n",
      "0    5000.0\n",
      "1    8500.0\n",
      "2    8990.0\n",
      "3    4350.0\n",
      "4    1350.0\n",
      "Name: price, dtype: float64\n"
     ]
    }
   ],
   "source": [
    "# clean the price column\n",
    "autos['price'] = autos['price'].str.replace('$', '') # removing dollar signs\n",
    "autos['price'] = autos['price'].str.replace(',', '') # removing commas \n",
    "autos['price'] = autos['price'].astype(float) # converting data type into float\n",
    "print(autos['price'].dtype)\n",
    "print(autos['price'].head())"
   ]
  },
  {
   "cell_type": "code",
   "execution_count": 16,
   "metadata": {},
   "outputs": [
    {
     "name": "stdout",
     "output_type": "stream",
     "text": [
      "int64\n",
      "0    150000\n",
      "1    150000\n",
      "2     70000\n",
      "3     70000\n",
      "4    150000\n",
      "Name: odometer, dtype: int64\n"
     ]
    }
   ],
   "source": [
    "# clean the odometer column\n",
    "autos['odometer'] = autos['odometer'].str.replace('km', '') # remove km\n",
    "autos['odometer'] = autos['odometer'].str.replace(',', '') # remove commas\n",
    "autos['odometer'] = autos['odometer'].astype(int) # convert column into integer type\n",
    "print(autos['odometer'].dtype)\n",
    "print(autos['odometer'].head())"
   ]
  },
  {
   "cell_type": "markdown",
   "metadata": {},
   "source": [
    "## Renaming the Odometer Column\n",
    "Then, we rename the `odometer` column to `odometer_km`."
   ]
  },
  {
   "cell_type": "code",
   "execution_count": 17,
   "metadata": {},
   "outputs": [
    {
     "name": "stdout",
     "output_type": "stream",
     "text": [
      "Index(['date_crawled', 'name', 'price', 'ab_test', 'vehicle_type',\n",
      "       'registration_year', 'gearbox', 'power_ps', 'model', 'odometer_km',\n",
      "       'registration_month', 'fuel_type', 'brand', 'unrepaired_damage',\n",
      "       'ad_created', 'postal_code', 'last_seen'],\n",
      "      dtype='object')\n"
     ]
    }
   ],
   "source": [
    "# rename the odometer column to odometer_km\n",
    "autos.rename({'odometer':'odometer_km'}, axis='columns', inplace=True)\n",
    "print(autos.columns)"
   ]
  },
  {
   "cell_type": "markdown",
   "metadata": {},
   "source": [
    "## Explore the Numeric Columns\n",
    "We start investigating extreme values."
   ]
  },
  {
   "cell_type": "code",
   "execution_count": 18,
   "metadata": {},
   "outputs": [
    {
     "name": "stdout",
     "output_type": "stream",
     "text": [
      "Minimum Price: 0.0\n",
      "Maximum Price: 99999999.0\n",
      "Minimum Mileage: 5000\n",
      "Maximum Mileage: 150000\n"
     ]
    }
   ],
   "source": [
    "# Display minimum and maximum values\n",
    "print('Minimum Price:', autos.price.min())\n",
    "print('Maximum Price:', autos.price.max())\n",
    "print('Minimum Mileage:', autos.odometer_km.min())\n",
    "print('Maximum Mileage:', autos.odometer_km.max())"
   ]
  },
  {
   "cell_type": "markdown",
   "metadata": {},
   "source": [
    "The `odometer_km`column seems to make sense, however the minumum and maximum prices are too extreme and should be removed. In the following lines we will continue to explore these two columns."
   ]
  },
  {
   "cell_type": "code",
   "execution_count": 19,
   "metadata": {},
   "outputs": [
    {
     "name": "stdout",
     "output_type": "stream",
     "text": [
      "Number of unique prices:  13\n",
      "Number of unique odometer values:  2357\n"
     ]
    }
   ],
   "source": [
    "# print the naumber of unique values for odometer and price columns\n",
    "print('Number of unique prices: ', autos.odometer_km.unique().shape[0]) \n",
    "print('Number of unique odometer values: ', autos.price.unique().shape[0])"
   ]
  },
  {
   "cell_type": "code",
   "execution_count": 20,
   "metadata": {},
   "outputs": [
    {
     "name": "stdout",
     "output_type": "stream",
     "text": [
      "count     50000.000000\n",
      "mean     125732.700000\n",
      "std       40042.211706\n",
      "min        5000.000000\n",
      "25%      125000.000000\n",
      "50%      150000.000000\n",
      "75%      150000.000000\n",
      "max      150000.000000\n",
      "Name: odometer_km, dtype: float64\n",
      "\n",
      "\n",
      "count    5.000000e+04\n",
      "mean     9.840044e+03\n",
      "std      4.811044e+05\n",
      "min      0.000000e+00\n",
      "25%      1.100000e+03\n",
      "50%      2.950000e+03\n",
      "75%      7.200000e+03\n",
      "max      1.000000e+08\n",
      "Name: price, dtype: float64\n"
     ]
    }
   ],
   "source": [
    "# display descriptive statistics of these two columns\n",
    "print(autos.odometer_km.describe())\n",
    "print('\\n')\n",
    "print(autos.price.describe())"
   ]
  },
  {
   "cell_type": "code",
   "execution_count": 21,
   "metadata": {},
   "outputs": [
    {
     "data": {
      "text/plain": [
       "150000    32424\n",
       "125000     5170\n",
       "100000     2169\n",
       "90000      1757\n",
       "80000      1436\n",
       "70000      1230\n",
       "60000      1164\n",
       "50000      1027\n",
       "40000       819\n",
       "30000       789\n",
       "20000       784\n",
       "10000       264\n",
       "5000        967\n",
       "Name: odometer_km, dtype: int64"
      ]
     },
     "execution_count": 21,
     "metadata": {},
     "output_type": "execute_result"
    }
   ],
   "source": [
    "# display value counts for the odometer column\n",
    "autos.odometer_km.value_counts().sort_index(ascending=False)"
   ]
  },
  {
   "cell_type": "code",
   "execution_count": 22,
   "metadata": {},
   "outputs": [
    {
     "data": {
      "text/plain": [
       "99999999.0    1\n",
       "27322222.0    1\n",
       "12345678.0    3\n",
       "11111111.0    2\n",
       "10000000.0    1\n",
       "3890000.0     1\n",
       "1300000.0     1\n",
       "1234566.0     1\n",
       "999999.0      2\n",
       "999990.0      1\n",
       "350000.0      1\n",
       "345000.0      1\n",
       "299000.0      1\n",
       "295000.0      1\n",
       "265000.0      1\n",
       "259000.0      1\n",
       "250000.0      1\n",
       "220000.0      1\n",
       "198000.0      1\n",
       "197000.0      1\n",
       "Name: price, dtype: int64"
      ]
     },
     "execution_count": 22,
     "metadata": {},
     "output_type": "execute_result"
    }
   ],
   "source": [
    "#display the highest price values\n",
    "autos.price.value_counts().sort_index(ascending=False).head(20)"
   ]
  },
  {
   "cell_type": "code",
   "execution_count": 23,
   "metadata": {},
   "outputs": [
    {
     "data": {
      "text/plain": [
       "0.0     1421\n",
       "1.0      156\n",
       "2.0        3\n",
       "3.0        1\n",
       "5.0        2\n",
       "8.0        1\n",
       "9.0        1\n",
       "10.0       7\n",
       "11.0       2\n",
       "12.0       3\n",
       "13.0       2\n",
       "14.0       1\n",
       "15.0       2\n",
       "17.0       3\n",
       "18.0       1\n",
       "Name: price, dtype: int64"
      ]
     },
     "execution_count": 23,
     "metadata": {},
     "output_type": "execute_result"
    }
   ],
   "source": [
    "# display the lowest price values\n",
    "autos.price.value_counts().sort_index(ascending=True).head(15)"
   ]
  },
  {
   "cell_type": "markdown",
   "metadata": {},
   "source": [
    "From this analysis we see that the `odometer_km` column seems ok. However, the price column includes values that seem unrealistically high and low. There are 1,421 rows with price iquals zero. On the other hand, there are very high values above the threshold of 350,000.\n",
    "\n",
    "# Drop Unrealistic Prices\n",
    "We will drop all rows with prices below 100 or above 350,000 dollars."
   ]
  },
  {
   "cell_type": "code",
   "execution_count": 24,
   "metadata": {},
   "outputs": [],
   "source": [
    "# drop all rows with price values below 100 or above 350,000 dollars.\n",
    "autos = autos[autos['price'].between(100, 350000)]"
   ]
  },
  {
   "cell_type": "code",
   "execution_count": 25,
   "metadata": {},
   "outputs": [
    {
     "data": {
      "text/plain": [
       "count     48224.000000\n",
       "mean       5930.371433\n",
       "std        9078.372762\n",
       "min         100.000000\n",
       "25%        1250.000000\n",
       "50%        3000.000000\n",
       "75%        7499.000000\n",
       "max      350000.000000\n",
       "Name: price, dtype: float64"
      ]
     },
     "execution_count": 25,
     "metadata": {},
     "output_type": "execute_result"
    }
   ],
   "source": [
    "# display descriptive statistics for the price column\n",
    "autos.price.describe()"
   ]
  },
  {
   "cell_type": "markdown",
   "metadata": {},
   "source": [
    "The new dataset after removing the extreme prices still has more than 48,224 rows. We were able to improve the quality of the data removing less than 4% of the data.\n",
    "\n",
    "## Explore Datetime Columns\n",
    "Next, we will analyze the values of three columns: `date_crawled`, `ad_created`, `last_seen`."
   ]
  },
  {
   "cell_type": "code",
   "execution_count": 26,
   "metadata": {},
   "outputs": [
    {
     "data": {
      "text/plain": [
       "2016-03-05    0.025361\n",
       "2016-03-06    0.014039\n",
       "2016-03-07    0.036061\n",
       "2016-03-08    0.033179\n",
       "2016-03-09    0.033013\n",
       "2016-03-10    0.032287\n",
       "2016-03-11    0.032598\n",
       "2016-03-12    0.036911\n",
       "2016-03-13    0.015677\n",
       "2016-03-14    0.036662\n",
       "2016-03-15    0.034319\n",
       "2016-03-16    0.029467\n",
       "2016-03-17    0.031499\n",
       "2016-03-18    0.012898\n",
       "2016-03-19    0.034734\n",
       "2016-03-20    0.037803\n",
       "2016-03-21    0.037201\n",
       "2016-03-22    0.032888\n",
       "2016-03-23    0.032287\n",
       "2016-03-24    0.029446\n",
       "2016-03-25    0.031499\n",
       "2016-03-26    0.032308\n",
       "2016-03-27    0.031126\n",
       "2016-03-28    0.034962\n",
       "2016-03-29    0.034112\n",
       "2016-03-30    0.033738\n",
       "2016-03-31    0.031851\n",
       "2016-04-01    0.033697\n",
       "2016-04-02    0.035605\n",
       "2016-04-03    0.038611\n",
       "2016-04-04    0.036538\n",
       "2016-04-05    0.013064\n",
       "2016-04-06    0.003173\n",
       "2016-04-07    0.001389\n",
       "Name: date_crawled, dtype: float64"
      ]
     },
     "execution_count": 26,
     "metadata": {},
     "output_type": "execute_result"
    }
   ],
   "source": [
    "# analize the values in the column date_crawled\n",
    "(autos.date_crawled\n",
    " .str[:10]\n",
    " .value_counts(normalize=True, dropna=False)\n",
    " .sort_index()\n",
    ")"
   ]
  },
  {
   "cell_type": "markdown",
   "metadata": {},
   "source": [
    "The `date_crawled`column includes values from March and April 2016."
   ]
  },
  {
   "cell_type": "code",
   "execution_count": 27,
   "metadata": {
    "scrolled": true
   },
   "outputs": [
    {
     "data": {
      "text/plain": [
       "2015-06-11    0.000021\n",
       "2015-08-10    0.000021\n",
       "2015-09-09    0.000021\n",
       "2015-11-10    0.000021\n",
       "2015-12-05    0.000021\n",
       "2015-12-30    0.000021\n",
       "2016-01-03    0.000021\n",
       "2016-01-07    0.000021\n",
       "2016-01-10    0.000041\n",
       "2016-01-13    0.000021\n",
       "2016-01-14    0.000021\n",
       "2016-01-16    0.000021\n",
       "2016-01-22    0.000021\n",
       "2016-01-27    0.000062\n",
       "2016-01-29    0.000021\n",
       "2016-02-01    0.000021\n",
       "2016-02-02    0.000041\n",
       "2016-02-05    0.000041\n",
       "2016-02-07    0.000021\n",
       "2016-02-08    0.000021\n",
       "2016-02-09    0.000021\n",
       "2016-02-11    0.000021\n",
       "2016-02-12    0.000041\n",
       "2016-02-14    0.000041\n",
       "2016-02-16    0.000021\n",
       "2016-02-17    0.000021\n",
       "2016-02-18    0.000041\n",
       "2016-02-19    0.000062\n",
       "2016-02-20    0.000041\n",
       "2016-02-21    0.000062\n",
       "                ...   \n",
       "2016-03-09    0.033096\n",
       "2016-03-10    0.031997\n",
       "2016-03-11    0.032909\n",
       "2016-03-12    0.036745\n",
       "2016-03-13    0.017045\n",
       "2016-03-14    0.035294\n",
       "2016-03-15    0.034049\n",
       "2016-03-16    0.029964\n",
       "2016-03-17    0.031167\n",
       "2016-03-18    0.013582\n",
       "2016-03-19    0.033614\n",
       "2016-03-20    0.037865\n",
       "2016-03-21    0.037429\n",
       "2016-03-22    0.032702\n",
       "2016-03-23    0.032121\n",
       "2016-03-24    0.029384\n",
       "2016-03-25    0.031623\n",
       "2016-03-26    0.032370\n",
       "2016-03-27    0.031043\n",
       "2016-03-28    0.035066\n",
       "2016-03-29    0.034070\n",
       "2016-03-30    0.033552\n",
       "2016-03-31    0.031893\n",
       "2016-04-01    0.033676\n",
       "2016-04-02    0.035294\n",
       "2016-04-03    0.038860\n",
       "2016-04-04    0.036890\n",
       "2016-04-05    0.011799\n",
       "2016-04-06    0.003256\n",
       "2016-04-07    0.001244\n",
       "Name: ad_created, Length: 76, dtype: float64"
      ]
     },
     "execution_count": 27,
     "metadata": {},
     "output_type": "execute_result"
    }
   ],
   "source": [
    "# analize values in the ad_created column\n",
    "(autos.ad_created\n",
    ".str[:10]\n",
    ".value_counts(normalize=True, dropna=False)\n",
    ".sort_index()\n",
    ")             "
   ]
  },
  {
   "cell_type": "markdown",
   "metadata": {},
   "source": [
    "The `ad_created` column includes values from 2015 and 2016. "
   ]
  },
  {
   "cell_type": "code",
   "execution_count": 28,
   "metadata": {
    "scrolled": true
   },
   "outputs": [
    {
     "data": {
      "text/plain": [
       "2016-03-05    0.001078\n",
       "2016-03-06    0.004313\n",
       "2016-03-07    0.005433\n",
       "2016-03-08    0.007320\n",
       "2016-03-09    0.009580\n",
       "2016-03-10    0.010638\n",
       "2016-03-11    0.012400\n",
       "2016-03-12    0.023785\n",
       "2016-03-13    0.008875\n",
       "2016-03-14    0.012629\n",
       "2016-03-15    0.015863\n",
       "2016-03-16    0.016444\n",
       "2016-03-17    0.028098\n",
       "2016-03-18    0.007320\n",
       "2016-03-19    0.015760\n",
       "2016-03-20    0.020654\n",
       "2016-03-21    0.020550\n",
       "2016-03-22    0.021359\n",
       "2016-03-23    0.018580\n",
       "2016-03-24    0.019762\n",
       "2016-03-25    0.019098\n",
       "2016-03-26    0.016672\n",
       "2016-03-27    0.015552\n",
       "2016-03-28    0.020840\n",
       "2016-03-29    0.022292\n",
       "2016-03-30    0.024697\n",
       "2016-03-31    0.023826\n",
       "2016-04-01    0.022852\n",
       "2016-04-02    0.024884\n",
       "2016-04-03    0.025133\n",
       "2016-04-04    0.024531\n",
       "2016-04-05    0.125062\n",
       "2016-04-06    0.221964\n",
       "2016-04-07    0.132154\n",
       "Name: last_seen, dtype: float64"
      ]
     },
     "execution_count": 28,
     "metadata": {},
     "output_type": "execute_result"
    }
   ],
   "source": [
    "# analize values in the last_seen column\n",
    "(autos.last_seen\n",
    ".str[:10]\n",
    ".value_counts(normalize=True, dropna=False)\n",
    ".sort_index()\n",
    ")"
   ]
  },
  {
   "cell_type": "markdown",
   "metadata": {},
   "source": [
    "The `last_seen` column includes values from 2016. Let's analyze the `registration_year` column."
   ]
  },
  {
   "cell_type": "markdown",
   "metadata": {},
   "source": [
    "## Explore Registration Year"
   ]
  },
  {
   "cell_type": "code",
   "execution_count": 29,
   "metadata": {
    "scrolled": true
   },
   "outputs": [
    {
     "data": {
      "text/plain": [
       "count    48224.000000\n",
       "mean      2004.730964\n",
       "std         87.897388\n",
       "min       1000.000000\n",
       "25%       1999.000000\n",
       "50%       2004.000000\n",
       "75%       2008.000000\n",
       "max       9999.000000\n",
       "Name: registration_year, dtype: float64"
      ]
     },
     "execution_count": 29,
     "metadata": {},
     "output_type": "execute_result"
    }
   ],
   "source": [
    "autos['registration_year'].describe()"
   ]
  },
  {
   "cell_type": "markdown",
   "metadata": {},
   "source": [
    "The `registration_year` column includes strange values. The minimum is the year 1000 and the maximum the year 9999. "
   ]
  },
  {
   "cell_type": "code",
   "execution_count": 30,
   "metadata": {},
   "outputs": [
    {
     "name": "stdout",
     "output_type": "stream",
     "text": [
      "(48224,)\n",
      "1000       1\n",
      "1001       1\n",
      "1111       1\n",
      "1800       2\n",
      "1910       2\n",
      "1927       1\n",
      "1929       1\n",
      "1931       1\n",
      "1934       2\n",
      "1937       4\n",
      "1938       1\n",
      "1939       1\n",
      "1941       2\n",
      "1943       1\n",
      "1948       1\n",
      "1950       1\n",
      "1951       2\n",
      "1952       1\n",
      "1953       1\n",
      "1954       2\n",
      "1955       2\n",
      "1956       4\n",
      "1957       2\n",
      "1958       4\n",
      "1959       6\n",
      "1960      22\n",
      "1961       6\n",
      "1962       4\n",
      "1963       8\n",
      "1964      12\n",
      "        ... \n",
      "2000    3104\n",
      "2001    2629\n",
      "2002    2477\n",
      "2003    2693\n",
      "2004    2699\n",
      "2005    2911\n",
      "2006    2668\n",
      "2007    2273\n",
      "2008    2210\n",
      "2009    2080\n",
      "2010    1587\n",
      "2011    1618\n",
      "2012    1308\n",
      "2013     801\n",
      "2014     662\n",
      "2015     380\n",
      "2016    1202\n",
      "2017    1383\n",
      "2018     468\n",
      "2019       2\n",
      "2800       1\n",
      "4100       1\n",
      "4500       1\n",
      "4800       1\n",
      "5000       3\n",
      "5911       1\n",
      "6200       1\n",
      "8888       1\n",
      "9000       1\n",
      "9999       3\n",
      "Name: registration_year, Length: 95, dtype: int64\n"
     ]
    }
   ],
   "source": [
    "print(autos['registration_year'].shape)\n",
    "print(autos['registration_year'].value_counts().sort_index())"
   ]
  },
  {
   "cell_type": "markdown",
   "metadata": {},
   "source": [
    "From the results above, se see that before 1910 the dates get back to 1800. On the other hand,  the columns `date_crawled` and `last_seen` include dates that go until 2016 to the latest.\n",
    "\n",
    "We will consider only dates that range from 1910 to 2016. Next, we will remove the rows outside this range."
   ]
  },
  {
   "cell_type": "code",
   "execution_count": 31,
   "metadata": {},
   "outputs": [
    {
     "data": {
      "text/plain": [
       "0.03881884538818845"
      ]
     },
     "execution_count": 31,
     "metadata": {},
     "output_type": "execute_result"
    }
   ],
   "source": [
    "# calculate the percentage of rows with `registration_year` values outside the range expected\n",
    "(~autos['registration_year'].between(1910, 2016)).sum() / autos['registration_year'].shape[0]"
   ]
  },
  {
   "cell_type": "markdown",
   "metadata": {},
   "source": [
    "As we see above, less than 4% of the `registration_year` values are out of a reasonable range. \n",
    "Next, we will remove the values out of the range."
   ]
  },
  {
   "cell_type": "markdown",
   "metadata": {},
   "source": [
    "## Drop Rows with Registration Year out of Range\n",
    "We will include only entries with `registration_year` between 1910 and 2016."
   ]
  },
  {
   "cell_type": "code",
   "execution_count": 32,
   "metadata": {},
   "outputs": [],
   "source": [
    "# Remove entries outside registration_year reasonable range\n",
    "autos = autos[autos['registration_year'].between(1910, 2016)]"
   ]
  },
  {
   "cell_type": "code",
   "execution_count": 33,
   "metadata": {},
   "outputs": [
    {
     "name": "stdout",
     "output_type": "stream",
     "text": [
      "Number of rows:  46352\n",
      "1910    0.000043\n",
      "1927    0.000022\n",
      "1929    0.000022\n",
      "1931    0.000022\n",
      "1934    0.000043\n",
      "1937    0.000086\n",
      "1938    0.000022\n",
      "1939    0.000022\n",
      "1941    0.000043\n",
      "1943    0.000022\n",
      "1948    0.000022\n",
      "1950    0.000022\n",
      "1951    0.000043\n",
      "1952    0.000022\n",
      "1953    0.000022\n",
      "1954    0.000043\n",
      "1955    0.000043\n",
      "1956    0.000086\n",
      "1957    0.000043\n",
      "1958    0.000086\n",
      "1959    0.000129\n",
      "1960    0.000475\n",
      "1961    0.000129\n",
      "1962    0.000086\n",
      "1963    0.000173\n",
      "1964    0.000259\n",
      "1965    0.000367\n",
      "1966    0.000475\n",
      "1967    0.000561\n",
      "1968    0.000561\n",
      "          ...   \n",
      "1987    0.001553\n",
      "1988    0.002869\n",
      "1989    0.003689\n",
      "1990    0.007163\n",
      "1991    0.007292\n",
      "1992    0.007918\n",
      "1993    0.009061\n",
      "1994    0.013505\n",
      "1995    0.025738\n",
      "1996    0.029233\n",
      "1997    0.041530\n",
      "1998    0.050483\n",
      "1999    0.062112\n",
      "2000    0.066966\n",
      "2001    0.056718\n",
      "2002    0.053439\n",
      "2003    0.058099\n",
      "2004    0.058228\n",
      "2005    0.062802\n",
      "2006    0.057560\n",
      "2007    0.049038\n",
      "2008    0.047679\n",
      "2009    0.044874\n",
      "2010    0.034238\n",
      "2011    0.034907\n",
      "2012    0.028219\n",
      "2013    0.017281\n",
      "2014    0.014282\n",
      "2015    0.008198\n",
      "2016    0.025932\n",
      "Name: registration_year, Length: 78, dtype: float64\n"
     ]
    }
   ],
   "source": [
    "print('Number of rows: ', autos['registration_year'].shape[0])\n",
    "print(autos['registration_year'].value_counts(normalize=True).sort_index())"
   ]
  },
  {
   "cell_type": "markdown",
   "metadata": {},
   "source": [
    "After the cleaning, the registration_year includes 46,352 values ranging from 1910 to 2016. Next, we will calculate the mean price by brand."
   ]
  },
  {
   "cell_type": "markdown",
   "metadata": {},
   "source": [
    "## Analyze Brands' Average Prices and Mileage\n",
    "Next, we will identify the Top10 car brands and calculate their average price and mileage."
   ]
  },
  {
   "cell_type": "code",
   "execution_count": 34,
   "metadata": {
    "scrolled": true
   },
   "outputs": [
    {
     "data": {
      "text/plain": [
       "array(['peugeot', 'bmw', 'volkswagen', 'smart', 'ford', 'chrysler',\n",
       "       'seat', 'renault', 'mercedes_benz', 'audi', 'sonstige_autos',\n",
       "       'opel', 'mazda', 'porsche', 'mini', 'toyota', 'dacia', 'nissan',\n",
       "       'jeep', 'saab', 'volvo', 'mitsubishi', 'jaguar', 'fiat', 'skoda',\n",
       "       'subaru', 'kia', 'citroen', 'chevrolet', 'hyundai', 'honda',\n",
       "       'daewoo', 'suzuki', 'trabant', 'land_rover', 'alfa_romeo', 'lada',\n",
       "       'rover', 'daihatsu', 'lancia'], dtype=object)"
      ]
     },
     "execution_count": 34,
     "metadata": {},
     "output_type": "execute_result"
    }
   ],
   "source": [
    "# display unique values for the brand column\n",
    "autos.brand.unique()"
   ]
  },
  {
   "cell_type": "code",
   "execution_count": 35,
   "metadata": {},
   "outputs": [
    {
     "name": "stdout",
     "output_type": "stream",
     "text": [
      "Index(['volkswagen', 'bmw', 'opel', 'mercedes_benz', 'audi', 'ford', 'renault',\n",
      "       'peugeot', 'fiat', 'seat'],\n",
      "      dtype='object')\n",
      "volkswagen       0.211404\n",
      "bmw              0.110179\n",
      "opel             0.107245\n",
      "mercedes_benz    0.096652\n",
      "audi             0.086771\n",
      "ford             0.069835\n",
      "renault          0.047075\n",
      "peugeot          0.029858\n",
      "fiat             0.025608\n",
      "seat             0.018252\n",
      "Name: brand, dtype: float64\n"
     ]
    }
   ],
   "source": [
    "# show the top 10 brands in terms of the percentage of the entries\n",
    "top10_brands = autos.brand.value_counts(normalize=True).sort_values(ascending=False).head(10)\n",
    "top10_index = top10_brands.index\n",
    "print(top10_index)\n",
    "print(top10_brands)"
   ]
  },
  {
   "cell_type": "markdown",
   "metadata": {},
   "source": [
    "We will focus on the Top10 brands, the ones more frequently found in the website. In the following lines, we will calculate the average price and milleage for each of the Top10 brands."
   ]
  },
  {
   "cell_type": "markdown",
   "metadata": {},
   "source": [
    "### Calculate Average Price and Mileage for the Top10 Brands"
   ]
  },
  {
   "cell_type": "code",
   "execution_count": 36,
   "metadata": {},
   "outputs": [
    {
     "name": "stdout",
     "output_type": "stream",
     "text": [
      "Mean Prices Dictionary:\n",
      "{'volkswagen': 5437, 'bmw': 8382, 'opel': 3005, 'mercedes_benz': 8673, 'audi': 9381, 'ford': 3779, 'renault': 2496, 'peugeot': 3114, 'fiat': 2837, 'seat': 4433}\n",
      "\n",
      "\n",
      "Mean Mileage Dictionary:\n",
      "{'volkswagen': 128800, 'bmw': 132695, 'opel': 129384, 'mercedes_benz': 131026, 'audi': 129245, 'ford': 124277, 'renault': 128281, 'peugeot': 127128, 'fiat': 116950, 'seat': 121537}\n"
     ]
    }
   ],
   "source": [
    "# create two dictionaries, one with average prices and another with average milleage for the top10 brands\n",
    "avg_price = {}\n",
    "avg_mileage = {}\n",
    "\n",
    "for car in top10_index:\n",
    "    col_price = autos.loc[autos['brand']==car, 'price']\n",
    "    mean_price = round(col_price.mean())\n",
    "    col_mileage = autos.loc[autos['brand']==car, 'odometer_km']\n",
    "    mean_mileage = round(col_mileage.mean())\n",
    "    avg_price[car]=mean_price\n",
    "    avg_mileage[car]=mean_mileage\n",
    "    \n",
    "print('Mean Prices Dictionary:')\n",
    "print(avg_price)\n",
    "print('\\n')\n",
    "print('Mean Mileage Dictionary:')\n",
    "print(avg_mileage)"
   ]
  },
  {
   "cell_type": "markdown",
   "metadata": {},
   "source": [
    "### Convert Dictionaries into Series and Dataframes"
   ]
  },
  {
   "cell_type": "code",
   "execution_count": 37,
   "metadata": {},
   "outputs": [
    {
     "name": "stdout",
     "output_type": "stream",
     "text": [
      "volkswagen       5437\n",
      "bmw              8382\n",
      "opel             3005\n",
      "mercedes_benz    8673\n",
      "audi             9381\n",
      "ford             3779\n",
      "renault          2496\n",
      "peugeot          3114\n",
      "fiat             2837\n",
      "seat             4433\n",
      "dtype: int64\n",
      "\n",
      "\n",
      "volkswagen       128800\n",
      "bmw              132695\n",
      "opel             129384\n",
      "mercedes_benz    131026\n",
      "audi             129245\n",
      "ford             124277\n",
      "renault          128281\n",
      "peugeot          127128\n",
      "fiat             116950\n",
      "seat             121537\n",
      "dtype: int64\n"
     ]
    }
   ],
   "source": [
    "# convert both dictionaries into series\n",
    "top10_price_series = pd.Series(avg_price)\n",
    "top10_mileage_series = pd.Series(avg_mileage)\n",
    "print(top10_price_series)\n",
    "print('\\n')\n",
    "print(top10_mileage_series)"
   ]
  },
  {
   "cell_type": "code",
   "execution_count": 38,
   "metadata": {},
   "outputs": [],
   "source": [
    "# convert the series top10_price_series into a DataFrame\n",
    "top10_df = pd.DataFrame(top10_price_series, columns=['mean_price'])"
   ]
  },
  {
   "cell_type": "code",
   "execution_count": 39,
   "metadata": {},
   "outputs": [
    {
     "name": "stdout",
     "output_type": "stream",
     "text": [
      "               mean_price\n",
      "volkswagen           5437\n",
      "bmw                  8382\n",
      "opel                 3005\n",
      "mercedes_benz        8673\n",
      "audi                 9381\n",
      "ford                 3779\n",
      "renault              2496\n",
      "peugeot              3114\n",
      "fiat                 2837\n",
      "seat                 4433\n"
     ]
    }
   ],
   "source": [
    "print(top10_df)"
   ]
  },
  {
   "cell_type": "code",
   "execution_count": 40,
   "metadata": {},
   "outputs": [
    {
     "name": "stdout",
     "output_type": "stream",
     "text": [
      "               mean_price  mean_mileage\n",
      "audi                 9381        129245\n",
      "mercedes_benz        8673        131026\n",
      "bmw                  8382        132695\n",
      "volkswagen           5437        128800\n",
      "seat                 4433        121537\n",
      "ford                 3779        124277\n",
      "peugeot              3114        127128\n",
      "opel                 3005        129384\n",
      "fiat                 2837        116950\n",
      "renault              2496        128281\n"
     ]
    }
   ],
   "source": [
    "# assign the milleage series into a column of the price dataframe\n",
    "top10_df['mean_mileage']=top10_mileage_series\n",
    "print(top10_df.sort_values('mean_price', ascending=False))"
   ]
  },
  {
   "cell_type": "markdown",
   "metadata": {},
   "source": [
    "Above we compare the Top10 brands in the dataset in terms of their average prices and mileage. We have no evidence of a relationaship between the two columns, since the highest and lowest prices present similar average mileage values."
   ]
  },
  {
   "cell_type": "markdown",
   "metadata": {},
   "source": [
    "## Translating German Names into English"
   ]
  },
  {
   "cell_type": "markdown",
   "metadata": {},
   "source": [
    "We will identify German names in the datafile and translate them into English. We see German therms in the columns `gearbox` and `unrepaired_damage`."
   ]
  },
  {
   "cell_type": "code",
   "execution_count": 41,
   "metadata": {},
   "outputs": [
    {
     "name": "stdout",
     "output_type": "stream",
     "text": [
      "manuell      0.778471\n",
      "automatik    0.221529\n",
      "Name: gearbox, dtype: float64\n",
      "\n",
      "\n",
      "nein    0.882836\n",
      "ja      0.117164\n",
      "Name: unrepaired_damage, dtype: float64\n"
     ]
    }
   ],
   "source": [
    "# display values in the gearbox column\n",
    "print(autos.gearbox.value_counts(normalize=True).sort_values(ascending=False))\n",
    "print('\\n')\n",
    "print(autos.unrepaired_damage.value_counts(normalize=True).sort_values(ascending=False))"
   ]
  },
  {
   "cell_type": "markdown",
   "metadata": {},
   "source": [
    "Let's translate the word 'manuell' as 'manual' and 'automatik' into 'automatic'. We will also translate 'nein' into 'no' and 'ja' into 'yes'."
   ]
  },
  {
   "cell_type": "code",
   "execution_count": 42,
   "metadata": {},
   "outputs": [
    {
     "name": "stdout",
     "output_type": "stream",
     "text": [
      "manual       0.778471\n",
      "automatic    0.221529\n",
      "Name: gearbox, dtype: float64\n",
      "\n",
      "\n",
      "no     0.882836\n",
      "yes    0.117164\n",
      "Name: unrepaired_damage, dtype: float64\n"
     ]
    }
   ],
   "source": [
    "# replace terms in German in the gearbox column\n",
    "autos.gearbox = autos.gearbox.str.replace('manuell', 'manual')\n",
    "autos.gearbox = autos.gearbox.str.replace('automatik', 'automatic')\n",
    "print(autos.gearbox.value_counts(normalize=True).sort_values(ascending=False))\n",
    "print('\\n')\n",
    "autos.unrepaired_damage = autos.unrepaired_damage.str.replace('nein', 'no')\n",
    "autos.unrepaired_damage = autos.unrepaired_damage.str.replace('ja', 'yes')\n",
    "print(autos.unrepaired_damage.value_counts(normalize=True).sort_values(ascending=False))"
   ]
  },
  {
   "cell_type": "markdown",
   "metadata": {},
   "source": [
    "We can confirm above that both the `gearbox` and `unrepaired_damage` columns values are not displayed in English."
   ]
  },
  {
   "cell_type": "markdown",
   "metadata": {},
   "source": [
    "## Extracting the Date from Datetime Values\n",
    "The column `date_crawled` includes values that are not appropriate for analysis. In the code below we show first how the data is displayed in the dataset. "
   ]
  },
  {
   "cell_type": "code",
   "execution_count": 43,
   "metadata": {},
   "outputs": [
    {
     "data": {
      "text/plain": [
       "2016-03-05 14:06:30    0.000022\n",
       "2016-03-05 14:06:40    0.000022\n",
       "2016-03-05 14:07:04    0.000022\n",
       "2016-03-05 14:07:21    0.000022\n",
       "2016-03-05 14:07:26    0.000022\n",
       "Name: date_crawled, dtype: float64"
      ]
     },
     "execution_count": 43,
     "metadata": {},
     "output_type": "execute_result"
    }
   ],
   "source": [
    "# display the first 5 rows of the date_crawled values\n",
    "autos.date_crawled.value_counts(normalize=True).sort_index().head(5)"
   ]
  },
  {
   "cell_type": "markdown",
   "metadata": {},
   "source": [
    "Next we will create a new column showing only the date numeric values, which includes the 10 first digits from each entry."
   ]
  },
  {
   "cell_type": "code",
   "execution_count": 44,
   "metadata": {
    "scrolled": true
   },
   "outputs": [
    {
     "name": "stdout",
     "output_type": "stream",
     "text": [
      "20160305    0.025220\n",
      "20160306    0.014153\n",
      "20160307    0.036331\n",
      "20160308    0.033418\n",
      "20160309    0.033181\n",
      "Name: date_crawled_numeric, dtype: float64\n",
      "int64\n"
     ]
    }
   ],
   "source": [
    "# create a new column date_crawled_numeric including only the date with numeric values\n",
    "autos['date_crawled_numeric'] = (autos.date_crawled\n",
    "                              .str[:10]\n",
    "                              .str.replace('-', '')\n",
    "                              .astype(int)\n",
    "                             )\n",
    "print(autos.date_crawled_numeric.value_counts(normalize=True).sort_index().head(5))\n",
    "print(autos.date_crawled_numeric.dtype)"
   ]
  },
  {
   "cell_type": "markdown",
   "metadata": {},
   "source": [
    "## Finding Out the Most Common Brand/Model Combinations\n",
    "Brand and Model are displayed in two different columns. We will combine these two columns into a new one called `brand_model`."
   ]
  },
  {
   "cell_type": "code",
   "execution_count": 45,
   "metadata": {},
   "outputs": [],
   "source": [
    "# create a new column brand_model\n",
    "autos['brand_model'] = autos.brand + '_' + autos.model"
   ]
  },
  {
   "cell_type": "code",
   "execution_count": 46,
   "metadata": {},
   "outputs": [
    {
     "data": {
      "text/plain": [
       "volkswagen_golf      0.083309\n",
       "bmw_3er              0.058841\n",
       "volkswagen_polo      0.036001\n",
       "opel_corsa           0.035458\n",
       "volkswagen_passat    0.030415\n",
       "Name: brand_model, dtype: float64"
      ]
     },
     "execution_count": 46,
     "metadata": {},
     "output_type": "execute_result"
    }
   ],
   "source": [
    "autos.brand_model.value_counts(normalize=True).head(5)"
   ]
  },
  {
   "cell_type": "markdown",
   "metadata": {},
   "source": [
    "We see that Volkswagen Gold and BMW 3er are the most common combinations. Next, we will split odometer_km into groups and check the average prices per group."
   ]
  },
  {
   "cell_type": "markdown",
   "metadata": {},
   "source": [
    "## Create Groups According to Mileage and Calculate Average Prices per Group"
   ]
  },
  {
   "cell_type": "code",
   "execution_count": 47,
   "metadata": {},
   "outputs": [
    {
     "data": {
      "text/plain": [
       "count     46352.000000\n",
       "mean     125734.488264\n",
       "std       39608.848152\n",
       "min        5000.000000\n",
       "25%      100000.000000\n",
       "50%      150000.000000\n",
       "75%      150000.000000\n",
       "max      150000.000000\n",
       "Name: odometer_km, dtype: float64"
      ]
     },
     "execution_count": 47,
     "metadata": {},
     "output_type": "execute_result"
    }
   ],
   "source": [
    "# split odometer_km in groups and calculate average prices per group\n",
    "#first check the range\n",
    "autos.odometer_km.describe()"
   ]
  },
  {
   "cell_type": "markdown",
   "metadata": {},
   "source": [
    "As we see above, it ranges from 5,000km to 150,000km. Let's split the DataFrame in 4 groups:\n",
    "- Group1: Between 5,000 and 49,999\n",
    "- Group2: Between 50,000 and 74,999\n",
    "- Group3: Between 75,000 and 99,999\n",
    "- Group4: Between 100,000 and 150,000"
   ]
  },
  {
   "cell_type": "code",
   "execution_count": 48,
   "metadata": {},
   "outputs": [],
   "source": [
    "# Split the dataset in 4 groups\n",
    "group1 = autos[autos['odometer_km'].between(5000, 49999)]\n",
    "group2 = autos[autos['odometer_km'].between(50000, 74999)]\n",
    "group3 = autos[autos['odometer_km'].between(75000, 99999)]\n",
    "group4 = autos[autos['odometer_km'].between(100000, 150000)]"
   ]
  },
  {
   "cell_type": "markdown",
   "metadata": {},
   "source": [
    "Next, we calculate the average price for each group."
   ]
  },
  {
   "cell_type": "code",
   "execution_count": 49,
   "metadata": {},
   "outputs": [
    {
     "name": "stdout",
     "output_type": "stream",
     "text": [
      "{'Group 1': 15631, 'Group 2': 12320, 'Group 3': 9044, 'Group 4': 4358}\n"
     ]
    }
   ],
   "source": [
    "# create an empty list with the four groups and \n",
    "#an empty dictionary for the average prices per group\n",
    "groups_list = [group1, group2, group3, group4]\n",
    "avg_price_per_group = {} \n",
    "group_name = 0\n",
    "\n",
    "# loop over the group list and append the average prices to the empty dictionary\n",
    "for group in groups_list:\n",
    "    price_series = group['price']\n",
    "    price_mean = round(price_series.mean())\n",
    "    group_name += 1\n",
    "    group_name_str = str(group_name)\n",
    "    group_name_final = 'Group ' + group_name_str\n",
    "    avg_price_per_group[group_name_final] = price_mean\n",
    "    \n",
    "print(avg_price_per_group)"
   ]
  },
  {
   "cell_type": "markdown",
   "metadata": {},
   "source": [
    "As we can observe above, the average price is lower for higher mileage.\n",
    "As a final exercize, lets compare the average price between cars with and without damages.\n",
    "\n",
    "## Compare Average Prices for Cars With and Without Damages"
   ]
  },
  {
   "cell_type": "code",
   "execution_count": 50,
   "metadata": {},
   "outputs": [
    {
     "data": {
      "text/plain": [
       "no     33772\n",
       "NaN     8098\n",
       "yes     4482\n",
       "Name: unrepaired_damage, dtype: int64"
      ]
     },
     "execution_count": 50,
     "metadata": {},
     "output_type": "execute_result"
    }
   ],
   "source": [
    "# expore the unrepaired_damage column\n",
    "autos.unrepaired_damage.value_counts(dropna=False)"
   ]
  },
  {
   "cell_type": "code",
   "execution_count": 51,
   "metadata": {},
   "outputs": [
    {
     "name": "stdout",
     "output_type": "stream",
     "text": [
      "{'yes': 2270, 'no': 7177}\n"
     ]
    }
   ],
   "source": [
    "# calculate the average price for cars with and withoug damage\n",
    "damage_list = ['yes', 'no']\n",
    "avg_damage = {}\n",
    "for damage in damage_list:\n",
    "    damage_df = autos[autos['unrepaired_damage']==damage]\n",
    "    damage_series = damage_df['price']\n",
    "    damage_mean = round(damage_series.mean())\n",
    "    avg_damage[damage] = damage_mean\n",
    "    \n",
    "print(avg_damage)\n",
    "    "
   ]
  },
  {
   "cell_type": "markdown",
   "metadata": {},
   "source": [
    "We can see that cars with some sort of damage have considerably lower prices if compared to the ones with damages.\n",
    "\n",
    "## Conclusion\n",
    "The aim of this project was to present how to clean data in Python. We used a dataset with data with car classifieds from eBay with 50,000 entries.\n",
    "\n",
    "The project shows how to: (1) read a datafile; (2) explore the data; (3) drop irrelevant columns; (4) deal with missing values; (5) calculate descriptive statistics; (6) group data by specific columns and conduct calculations for each groups."
   ]
  }
 ],
 "metadata": {
  "kernelspec": {
   "display_name": "Python 3",
   "language": "python",
   "name": "python3"
  },
  "language_info": {
   "codemirror_mode": {
    "name": "ipython",
    "version": 3
   },
   "file_extension": ".py",
   "mimetype": "text/x-python",
   "name": "python",
   "nbconvert_exporter": "python",
   "pygments_lexer": "ipython3",
   "version": "3.7.3"
  }
 },
 "nbformat": 4,
 "nbformat_minor": 2
}
